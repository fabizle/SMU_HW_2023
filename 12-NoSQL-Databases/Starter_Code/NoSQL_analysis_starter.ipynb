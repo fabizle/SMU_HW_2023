{
 "cells": [
  {
   "cell_type": "markdown",
   "id": "9a57c4c6",
   "metadata": {},
   "source": [
    "# Eat Safe, Love"
   ]
  },
  {
   "cell_type": "markdown",
   "id": "064ef857",
   "metadata": {},
   "source": [
    "## Notebook Set Up"
   ]
  },
  {
   "cell_type": "code",
   "execution_count": 60,
   "id": "3ecdd008",
   "metadata": {},
   "outputs": [],
   "source": [
    "# Import dependencies\n",
    "from pymongo import MongoClient\n",
    "from pprint import pprint\n",
    "import pandas as pd"
   ]
  },
  {
   "cell_type": "code",
   "execution_count": 61,
   "id": "59390c4a",
   "metadata": {},
   "outputs": [],
   "source": [
    "# Create an instance of MongoClient\n",
    "mongo = MongoClient(port=27017)"
   ]
  },
  {
   "cell_type": "code",
   "execution_count": 62,
   "id": "71e373c1",
   "metadata": {},
   "outputs": [],
   "source": [
    "# assign the uk_food database to a variable name\n",
    "db = mongo['uk_food']"
   ]
  },
  {
   "cell_type": "code",
   "execution_count": 63,
   "id": "18ab463c",
   "metadata": {},
   "outputs": [
    {
     "name": "stdout",
     "output_type": "stream",
     "text": [
      "['establishments']\n"
     ]
    }
   ],
   "source": [
    "# review the collections in our database\n",
    "print(db.list_collection_names())"
   ]
  },
  {
   "cell_type": "code",
   "execution_count": 64,
   "id": "11c9f11b",
   "metadata": {},
   "outputs": [],
   "source": [
    "# assign the collection to a variable\n",
    "establishments = db['establishments']"
   ]
  },
  {
   "cell_type": "markdown",
   "id": "d5671434",
   "metadata": {},
   "source": [
    "## Part 3: Exploratory Analysis\n",
    "Unless otherwise stated, for each question: \n",
    "* Use `count_documents` to display the number of documents contained in the result.\n",
    "* Display the first document in the results using `pprint`.\n",
    "* Convert the result to a Pandas DataFrame, print the number of rows in the DataFrame, and display the first 10 rows."
   ]
  },
  {
   "cell_type": "markdown",
   "id": "314bd884",
   "metadata": {},
   "source": [
    "### 1. Which establishments have a hygiene score equal to 20?"
   ]
  },
  {
   "cell_type": "code",
   "execution_count": 65,
   "id": "c2da7648",
   "metadata": {},
   "outputs": [
    {
     "name": "stdout",
     "output_type": "stream",
     "text": [
      "123\n",
      "{'AddressLine1': '5-6 Southfields Road',\n",
      " 'AddressLine2': 'Eastbourne',\n",
      " 'AddressLine3': 'East Sussex',\n",
      " 'AddressLine4': '',\n",
      " 'BusinessName': 'The Chase Rest Home',\n",
      " 'BusinessType': 'Caring Premises',\n",
      " 'BusinessTypeID': 5,\n",
      " 'ChangesByServerID': 0,\n",
      " 'Distance': 4613.888288172291,\n",
      " 'FHRSID': 110681,\n",
      " 'LocalAuthorityBusinessID': '4029',\n",
      " 'LocalAuthorityCode': 102,\n",
      " 'LocalAuthorityEmailAddress': 'Customerfirst@eastbourne.gov.uk',\n",
      " 'LocalAuthorityName': 'Eastbourne',\n",
      " 'LocalAuthorityWebSite': 'http://www.eastbourne.gov.uk/foodratings',\n",
      " 'NewRatingPending': False,\n",
      " 'Phone': '',\n",
      " 'PostCode': 'BN21 1BU',\n",
      " 'RatingDate': '2021-09-23T00:00:00',\n",
      " 'RatingKey': 'fhrs_0_en-gb',\n",
      " 'RatingValue': 0,\n",
      " 'RightToReply': '',\n",
      " 'SchemeType': 'FHRS',\n",
      " '_id': ObjectId('65c17187fb5cdfac27f5ce73'),\n",
      " 'geocode': {'latitude': None, 'longitude': Decimal128('0.27694')},\n",
      " 'links': [{'href': 'https://api.ratings.food.gov.uk/establishments/110681',\n",
      "            'rel': 'self'}],\n",
      " 'meta': {'dataSource': None,\n",
      "          'extractDate': '0001-01-01T00:00:00',\n",
      "          'itemCount': 0,\n",
      "          'pageNumber': 0,\n",
      "          'pageSize': 0,\n",
      "          'returncode': None,\n",
      "          'totalCount': 0,\n",
      "          'totalPages': 0},\n",
      " 'scores': {'ConfidenceInManagement': 20, 'Hygiene': 20, 'Structural': 20}}\n"
     ]
    }
   ],
   "source": [
    "# Find the establishments with a hygiene score of 20\n",
    "query = {\"scores.Hygiene\": 20}\n",
    "print(establishments.count_documents(query))\n",
    "\n",
    "# Use count_documents to display the number of documents in the result\n",
    "\n",
    "# Display the first document in the results using pprint\n",
    "pprint(establishments.find(query)[0])"
   ]
  },
  {
   "cell_type": "code",
   "execution_count": 66,
   "id": "a6e5cece",
   "metadata": {},
   "outputs": [
    {
     "name": "stdout",
     "output_type": "stream",
     "text": [
      "(0, 0)\n"
     ]
    },
    {
     "data": {
      "text/html": [
       "<div>\n",
       "<style scoped>\n",
       "    .dataframe tbody tr th:only-of-type {\n",
       "        vertical-align: middle;\n",
       "    }\n",
       "\n",
       "    .dataframe tbody tr th {\n",
       "        vertical-align: top;\n",
       "    }\n",
       "\n",
       "    .dataframe thead th {\n",
       "        text-align: right;\n",
       "    }\n",
       "</style>\n",
       "<table border=\"1\" class=\"dataframe\">\n",
       "  <thead>\n",
       "    <tr style=\"text-align: right;\">\n",
       "      <th></th>\n",
       "    </tr>\n",
       "  </thead>\n",
       "  <tbody>\n",
       "  </tbody>\n",
       "</table>\n",
       "</div>"
      ],
      "text/plain": [
       "Empty DataFrame\n",
       "Columns: []\n",
       "Index: []"
      ]
     },
     "execution_count": 66,
     "metadata": {},
     "output_type": "execute_result"
    }
   ],
   "source": [
    "# Convert the result to a Pandas DataFrame\n",
    "df= pd.DataFrame(data)\n",
    "# Display the number of rows in the DataFrame\n",
    "print(df.shape)\n",
    "# Display the first 10 rows of the DataFrame\n",
    "df.head()"
   ]
  },
  {
   "cell_type": "markdown",
   "id": "0ef4395a",
   "metadata": {},
   "source": [
    "### 2. Which establishments in London have a `RatingValue` greater than or equal to 4?"
   ]
  },
  {
   "cell_type": "code",
   "execution_count": 68,
   "id": "93c63829",
   "metadata": {},
   "outputs": [
    {
     "name": "stdout",
     "output_type": "stream",
     "text": [
      "99\n",
      "{'AddressLine1': 'Oak Apple Farm Building 103 Sheernes Docks',\n",
      " 'AddressLine2': 'Sheppy Kent',\n",
      " 'AddressLine3': '',\n",
      " 'AddressLine4': '',\n",
      " 'BusinessName': \"Charlie's\",\n",
      " 'BusinessType': 'Other catering premises',\n",
      " 'BusinessTypeID': 7841,\n",
      " 'ChangesByServerID': 0,\n",
      " 'Distance': 4627.439467780196,\n",
      " 'FHRSID': 621707,\n",
      " 'LocalAuthorityBusinessID': 'PI/000025307',\n",
      " 'LocalAuthorityCode': 508,\n",
      " 'LocalAuthorityEmailAddress': 'publicprotection@cityoflondon.gov.uk',\n",
      " 'LocalAuthorityName': 'City of London Corporation',\n",
      " 'LocalAuthorityWebSite': 'http://www.cityoflondon.gov.uk/Corporation/homepage.htm',\n",
      " 'NewRatingPending': False,\n",
      " 'Phone': '',\n",
      " 'PostCode': 'ME12',\n",
      " 'RatingDate': '2021-10-18T00:00:00',\n",
      " 'RatingKey': 'fhrs_4_en-gb',\n",
      " 'RatingValue': 4,\n",
      " 'RightToReply': '',\n",
      " 'SchemeType': 'FHRS',\n",
      " '_id': ObjectId('65c17187fb5cdfac27f5e88e'),\n",
      " 'geocode': {'latitude': None, 'longitude': Decimal128('0.508551')},\n",
      " 'links': [{'href': 'https://api.ratings.food.gov.uk/establishments/621707',\n",
      "            'rel': 'self'}],\n",
      " 'meta': {'dataSource': None,\n",
      "          'extractDate': '0001-01-01T00:00:00',\n",
      "          'itemCount': 0,\n",
      "          'pageNumber': 0,\n",
      "          'pageSize': 0,\n",
      "          'returncode': None,\n",
      "          'totalCount': 0,\n",
      "          'totalPages': 0},\n",
      " 'scores': {'ConfidenceInManagement': 5, 'Hygiene': 5, 'Structural': 10}}\n"
     ]
    }
   ],
   "source": [
    "# Find the establishments with London as the Local Authority and has a RatingValue greater than or equal to 4.\n",
    "query = {\"RatingValue\": {\"$gte\": 4}, \"LocalAuthorityName\": {\"$regex\": \"London\"}}\n",
    "\n",
    "\n",
    "# Use count_documents to display the number of documents in the result\n",
    "print(establishments.count_documents(query))\n",
    "# Display the first document in the results using pprint\n",
    "\n",
    "\n",
    "# Use count_documents to display the number of documents in the result\n",
    "\n",
    "# Display the first document in the results using pprint\n",
    "data = establishments.find(query)\n",
    "pprint(data[0])"
   ]
  },
  {
   "cell_type": "code",
   "execution_count": 69,
   "id": "07e24ccb",
   "metadata": {},
   "outputs": [
    {
     "name": "stdout",
     "output_type": "stream",
     "text": [
      "(99, 28)\n"
     ]
    },
    {
     "data": {
      "text/html": [
       "<div>\n",
       "<style scoped>\n",
       "    .dataframe tbody tr th:only-of-type {\n",
       "        vertical-align: middle;\n",
       "    }\n",
       "\n",
       "    .dataframe tbody tr th {\n",
       "        vertical-align: top;\n",
       "    }\n",
       "\n",
       "    .dataframe thead th {\n",
       "        text-align: right;\n",
       "    }\n",
       "</style>\n",
       "<table border=\"1\" class=\"dataframe\">\n",
       "  <thead>\n",
       "    <tr style=\"text-align: right;\">\n",
       "      <th></th>\n",
       "      <th>_id</th>\n",
       "      <th>FHRSID</th>\n",
       "      <th>ChangesByServerID</th>\n",
       "      <th>LocalAuthorityBusinessID</th>\n",
       "      <th>BusinessName</th>\n",
       "      <th>BusinessType</th>\n",
       "      <th>BusinessTypeID</th>\n",
       "      <th>AddressLine1</th>\n",
       "      <th>AddressLine2</th>\n",
       "      <th>AddressLine3</th>\n",
       "      <th>...</th>\n",
       "      <th>LocalAuthorityWebSite</th>\n",
       "      <th>LocalAuthorityEmailAddress</th>\n",
       "      <th>scores</th>\n",
       "      <th>SchemeType</th>\n",
       "      <th>geocode</th>\n",
       "      <th>RightToReply</th>\n",
       "      <th>Distance</th>\n",
       "      <th>NewRatingPending</th>\n",
       "      <th>meta</th>\n",
       "      <th>links</th>\n",
       "    </tr>\n",
       "  </thead>\n",
       "  <tbody>\n",
       "    <tr>\n",
       "      <th>0</th>\n",
       "      <td>65c17187fb5cdfac27f5e88e</td>\n",
       "      <td>621707</td>\n",
       "      <td>0</td>\n",
       "      <td>PI/000025307</td>\n",
       "      <td>Charlie's</td>\n",
       "      <td>Other catering premises</td>\n",
       "      <td>7841</td>\n",
       "      <td>Oak Apple Farm Building 103 Sheernes Docks</td>\n",
       "      <td>Sheppy Kent</td>\n",
       "      <td></td>\n",
       "      <td>...</td>\n",
       "      <td>http://www.cityoflondon.gov.uk/Corporation/hom...</td>\n",
       "      <td>publicprotection@cityoflondon.gov.uk</td>\n",
       "      <td>{'Hygiene': 5, 'Structural': 10, 'ConfidenceIn...</td>\n",
       "      <td>FHRS</td>\n",
       "      <td>{'longitude': 0.508551, 'latitude': None}</td>\n",
       "      <td></td>\n",
       "      <td>4627.439468</td>\n",
       "      <td>False</td>\n",
       "      <td>{'dataSource': None, 'extractDate': '0001-01-0...</td>\n",
       "      <td>[{'rel': 'self', 'href': 'https://api.ratings....</td>\n",
       "    </tr>\n",
       "    <tr>\n",
       "      <th>1</th>\n",
       "      <td>65c17187fb5cdfac27f5ebb4</td>\n",
       "      <td>1130836</td>\n",
       "      <td>0</td>\n",
       "      <td>PI/000034075</td>\n",
       "      <td>Mv City Cruises Erasmus</td>\n",
       "      <td>Other catering premises</td>\n",
       "      <td>7841</td>\n",
       "      <td>Cherry Garden Pier</td>\n",
       "      <td>Cherry Garden Street Rotherhithe</td>\n",
       "      <td>Charlton</td>\n",
       "      <td>...</td>\n",
       "      <td>http://www.cityoflondon.gov.uk/Corporation/hom...</td>\n",
       "      <td>publicprotection@cityoflondon.gov.uk</td>\n",
       "      <td>{'Hygiene': 0, 'Structural': 5, 'ConfidenceInM...</td>\n",
       "      <td>FHRS</td>\n",
       "      <td>{'longitude': 0.249255999922752, 'latitude': N...</td>\n",
       "      <td></td>\n",
       "      <td>4627.873179</td>\n",
       "      <td>False</td>\n",
       "      <td>{'dataSource': None, 'extractDate': '0001-01-0...</td>\n",
       "      <td>[{'rel': 'self', 'href': 'http://api.ratings.f...</td>\n",
       "    </tr>\n",
       "    <tr>\n",
       "      <th>2</th>\n",
       "      <td>65c17187fb5cdfac27f5f701</td>\n",
       "      <td>293783</td>\n",
       "      <td>0</td>\n",
       "      <td>PI/000002614</td>\n",
       "      <td>Benfleet Motor Yacht Club</td>\n",
       "      <td>Other catering premises</td>\n",
       "      <td>7841</td>\n",
       "      <td>Ferry Road</td>\n",
       "      <td>South Benfleet Essex</td>\n",
       "      <td></td>\n",
       "      <td>...</td>\n",
       "      <td>http://www.cityoflondon.gov.uk/Corporation/hom...</td>\n",
       "      <td>publicprotection@cityoflondon.gov.uk</td>\n",
       "      <td>{'Hygiene': 0, 'Structural': 0, 'ConfidenceInM...</td>\n",
       "      <td>FHRS</td>\n",
       "      <td>{'longitude': 0.561954, 'latitude': None}</td>\n",
       "      <td></td>\n",
       "      <td>4631.968418</td>\n",
       "      <td>False</td>\n",
       "      <td>{'dataSource': None, 'extractDate': '0001-01-0...</td>\n",
       "      <td>[{'rel': 'self', 'href': 'http://api.ratings.f...</td>\n",
       "    </tr>\n",
       "    <tr>\n",
       "      <th>3</th>\n",
       "      <td>65c17187fb5cdfac27f60501</td>\n",
       "      <td>1315095</td>\n",
       "      <td>0</td>\n",
       "      <td>PI/000036464</td>\n",
       "      <td>Coombs Catering t/a The Lock and Key</td>\n",
       "      <td>Restaurant/Cafe/Canteen</td>\n",
       "      <td>1</td>\n",
       "      <td>Leslie Ford House</td>\n",
       "      <td>Tilbury</td>\n",
       "      <td>Charlton</td>\n",
       "      <td>...</td>\n",
       "      <td>http://www.cityoflondon.gov.uk/Corporation/hom...</td>\n",
       "      <td>publicprotection@cityoflondon.gov.uk</td>\n",
       "      <td>{'Hygiene': 0, 'Structural': 5, 'ConfidenceInM...</td>\n",
       "      <td>FHRS</td>\n",
       "      <td>{'longitude': 0.346336990594864, 'latitude': N...</td>\n",
       "      <td></td>\n",
       "      <td>4636.846754</td>\n",
       "      <td>False</td>\n",
       "      <td>{'dataSource': None, 'extractDate': '0001-01-0...</td>\n",
       "      <td>[{'rel': 'self', 'href': 'http://api.ratings.f...</td>\n",
       "    </tr>\n",
       "    <tr>\n",
       "      <th>4</th>\n",
       "      <td>65c17187fb5cdfac27f60502</td>\n",
       "      <td>294474</td>\n",
       "      <td>0</td>\n",
       "      <td>PI/000014647</td>\n",
       "      <td>Tilbury Seafarers Centre</td>\n",
       "      <td>Restaurant/Cafe/Canteen</td>\n",
       "      <td>1</td>\n",
       "      <td>Tenants Row Tilbury Docks</td>\n",
       "      <td>Tilbury Essex</td>\n",
       "      <td></td>\n",
       "      <td>...</td>\n",
       "      <td>http://www.cityoflondon.gov.uk/Corporation/hom...</td>\n",
       "      <td>publicprotection@cityoflondon.gov.uk</td>\n",
       "      <td>{'Hygiene': 0, 'Structural': 0, 'ConfidenceInM...</td>\n",
       "      <td>FHRS</td>\n",
       "      <td>{'longitude': 0.346325, 'latitude': None}</td>\n",
       "      <td></td>\n",
       "      <td>4636.847650</td>\n",
       "      <td>False</td>\n",
       "      <td>{'dataSource': None, 'extractDate': '0001-01-0...</td>\n",
       "      <td>[{'rel': 'self', 'href': 'http://api.ratings.f...</td>\n",
       "    </tr>\n",
       "  </tbody>\n",
       "</table>\n",
       "<p>5 rows × 28 columns</p>\n",
       "</div>"
      ],
      "text/plain": [
       "                        _id   FHRSID  ChangesByServerID  \\\n",
       "0  65c17187fb5cdfac27f5e88e   621707                  0   \n",
       "1  65c17187fb5cdfac27f5ebb4  1130836                  0   \n",
       "2  65c17187fb5cdfac27f5f701   293783                  0   \n",
       "3  65c17187fb5cdfac27f60501  1315095                  0   \n",
       "4  65c17187fb5cdfac27f60502   294474                  0   \n",
       "\n",
       "  LocalAuthorityBusinessID                          BusinessName  \\\n",
       "0             PI/000025307                             Charlie's   \n",
       "1             PI/000034075               Mv City Cruises Erasmus   \n",
       "2             PI/000002614             Benfleet Motor Yacht Club   \n",
       "3             PI/000036464  Coombs Catering t/a The Lock and Key   \n",
       "4             PI/000014647              Tilbury Seafarers Centre   \n",
       "\n",
       "              BusinessType  BusinessTypeID  \\\n",
       "0  Other catering premises            7841   \n",
       "1  Other catering premises            7841   \n",
       "2  Other catering premises            7841   \n",
       "3  Restaurant/Cafe/Canteen               1   \n",
       "4  Restaurant/Cafe/Canteen               1   \n",
       "\n",
       "                                 AddressLine1  \\\n",
       "0  Oak Apple Farm Building 103 Sheernes Docks   \n",
       "1                          Cherry Garden Pier   \n",
       "2                                  Ferry Road   \n",
       "3                           Leslie Ford House   \n",
       "4                   Tenants Row Tilbury Docks   \n",
       "\n",
       "                       AddressLine2 AddressLine3  ...  \\\n",
       "0                       Sheppy Kent               ...   \n",
       "1  Cherry Garden Street Rotherhithe     Charlton  ...   \n",
       "2              South Benfleet Essex               ...   \n",
       "3                           Tilbury     Charlton  ...   \n",
       "4                     Tilbury Essex               ...   \n",
       "\n",
       "                               LocalAuthorityWebSite  \\\n",
       "0  http://www.cityoflondon.gov.uk/Corporation/hom...   \n",
       "1  http://www.cityoflondon.gov.uk/Corporation/hom...   \n",
       "2  http://www.cityoflondon.gov.uk/Corporation/hom...   \n",
       "3  http://www.cityoflondon.gov.uk/Corporation/hom...   \n",
       "4  http://www.cityoflondon.gov.uk/Corporation/hom...   \n",
       "\n",
       "             LocalAuthorityEmailAddress  \\\n",
       "0  publicprotection@cityoflondon.gov.uk   \n",
       "1  publicprotection@cityoflondon.gov.uk   \n",
       "2  publicprotection@cityoflondon.gov.uk   \n",
       "3  publicprotection@cityoflondon.gov.uk   \n",
       "4  publicprotection@cityoflondon.gov.uk   \n",
       "\n",
       "                                              scores  SchemeType  \\\n",
       "0  {'Hygiene': 5, 'Structural': 10, 'ConfidenceIn...        FHRS   \n",
       "1  {'Hygiene': 0, 'Structural': 5, 'ConfidenceInM...        FHRS   \n",
       "2  {'Hygiene': 0, 'Structural': 0, 'ConfidenceInM...        FHRS   \n",
       "3  {'Hygiene': 0, 'Structural': 5, 'ConfidenceInM...        FHRS   \n",
       "4  {'Hygiene': 0, 'Structural': 0, 'ConfidenceInM...        FHRS   \n",
       "\n",
       "                                             geocode RightToReply  \\\n",
       "0          {'longitude': 0.508551, 'latitude': None}                \n",
       "1  {'longitude': 0.249255999922752, 'latitude': N...                \n",
       "2          {'longitude': 0.561954, 'latitude': None}                \n",
       "3  {'longitude': 0.346336990594864, 'latitude': N...                \n",
       "4          {'longitude': 0.346325, 'latitude': None}                \n",
       "\n",
       "      Distance NewRatingPending  \\\n",
       "0  4627.439468            False   \n",
       "1  4627.873179            False   \n",
       "2  4631.968418            False   \n",
       "3  4636.846754            False   \n",
       "4  4636.847650            False   \n",
       "\n",
       "                                                meta  \\\n",
       "0  {'dataSource': None, 'extractDate': '0001-01-0...   \n",
       "1  {'dataSource': None, 'extractDate': '0001-01-0...   \n",
       "2  {'dataSource': None, 'extractDate': '0001-01-0...   \n",
       "3  {'dataSource': None, 'extractDate': '0001-01-0...   \n",
       "4  {'dataSource': None, 'extractDate': '0001-01-0...   \n",
       "\n",
       "                                               links  \n",
       "0  [{'rel': 'self', 'href': 'https://api.ratings....  \n",
       "1  [{'rel': 'self', 'href': 'http://api.ratings.f...  \n",
       "2  [{'rel': 'self', 'href': 'http://api.ratings.f...  \n",
       "3  [{'rel': 'self', 'href': 'http://api.ratings.f...  \n",
       "4  [{'rel': 'self', 'href': 'http://api.ratings.f...  \n",
       "\n",
       "[5 rows x 28 columns]"
      ]
     },
     "execution_count": 69,
     "metadata": {},
     "output_type": "execute_result"
    }
   ],
   "source": [
    "# Convert the result to a Pandas DataFrame\n",
    "df = pd.DataFrame(data)\n",
    "# Display the number of rows in the DataFrame\n",
    "print(df.shape)\n",
    "# Display the first 10 rows of the DataFrame\n",
    "df.head()"
   ]
  },
  {
   "cell_type": "markdown",
   "id": "4e570caf",
   "metadata": {},
   "source": [
    "### 3. What are the top 5 establishments with a `RatingValue` rating value of 5, sorted by lowest hygiene score, nearest to the new restaurant added, \"Penang Flavours\"?"
   ]
  },
  {
   "cell_type": "code",
   "execution_count": 71,
   "id": "45f7f2f1",
   "metadata": {},
   "outputs": [
    {
     "data": {
      "text/plain": [
       "{'_id': ObjectId('65c1a9f1e2fbe96dc58a74d6'),\n",
       " 'BusinessName': 'Penang Flavours',\n",
       " 'BusinessType': 'Restaurant/Cafe/Canteen',\n",
       " 'BusinessTypeID': 1,\n",
       " 'AddressLine1': 'Penang Flavours',\n",
       " 'AddressLine2': '146A Plumstead Rd',\n",
       " 'AddressLine3': 'London',\n",
       " 'AddressLine4': '',\n",
       " 'PostCode': 'SE18 7DY',\n",
       " 'Phone': '',\n",
       " 'LocalAuthorityCode': '511',\n",
       " 'LocalAuthorityName': 'Greenwich',\n",
       " 'LocalAuthorityWebSite': 'http://www.royalgreenwich.gov.uk',\n",
       " 'LocalAuthorityEmailAddress': 'health@royalgreenwich.gov.uk',\n",
       " 'scores': {'Hygiene': '', 'Structural': '', 'ConfidenceInManagement': ''},\n",
       " 'SchemeType': 'FHRS',\n",
       " 'geocode': {'longitude': Decimal128('0.08384000'), 'latitude': None},\n",
       " 'RightToReply': '',\n",
       " 'Distance': 4623.972328074718,\n",
       " 'NewRatingPending': True,\n",
       " 'RatingValue': None}"
      ]
     },
     "execution_count": 71,
     "metadata": {},
     "output_type": "execute_result"
    }
   ],
   "source": [
    "establishments.find_one({\"BusinessName\":\"Penang Flavours\"})"
   ]
  },
  {
   "cell_type": "code",
   "execution_count": null,
   "id": "7f599f3d",
   "metadata": {},
   "outputs": [],
   "source": [
    "# Search within 0.01 degree on either side of the latitude and longitude.\n",
    "# Rating value must equal 5\n",
    "# Sort by hygiene score\n",
    "\n",
    "degree_search = 0.01\n",
    "latitude = 0.08384000\n",
    "longitude = 51.49014200\n",
    "\n",
    "query = {0.01}\n",
    "sort =  \n",
    "\n",
    "# Print the results\n"
   ]
  },
  {
   "cell_type": "code",
   "execution_count": null,
   "id": "a6ad16f7",
   "metadata": {},
   "outputs": [],
   "source": [
    "# Convert result to Pandas DataFrame\n"
   ]
  },
  {
   "cell_type": "markdown",
   "id": "67281254",
   "metadata": {},
   "source": [
    "### 4. How many establishments in each Local Authority area have a hygiene score of 0?"
   ]
  },
  {
   "cell_type": "code",
   "execution_count": null,
   "id": "4eeb227e",
   "metadata": {},
   "outputs": [],
   "source": [
    "# Create a pipeline that: \n",
    "# 1. Matches establishments with a hygiene score of 0\n",
    "# 2. Groups the matches by Local Authority\n",
    "# 3. Sorts the matches from highest to lowest\n",
    "\n",
    "# Print the number of documents in the result\n",
    "\n",
    "# Print the first 10 results\n"
   ]
  },
  {
   "cell_type": "code",
   "execution_count": null,
   "id": "d8aab364",
   "metadata": {},
   "outputs": [],
   "source": [
    "# Convert the result to a Pandas DataFrame\n",
    "\n",
    "# Display the number of rows in the DataFrame\n",
    "\n",
    "# Display the first 10 rows of the DataFrame\n"
   ]
  }
 ],
 "metadata": {
  "kernelspec": {
   "display_name": "Python 3 (ipykernel)",
   "language": "python",
   "name": "python3"
  },
  "language_info": {
   "codemirror_mode": {
    "name": "ipython",
    "version": 3
   },
   "file_extension": ".py",
   "mimetype": "text/x-python",
   "name": "python",
   "nbconvert_exporter": "python",
   "pygments_lexer": "ipython3",
   "version": "3.11.5"
  }
 },
 "nbformat": 4,
 "nbformat_minor": 5
}
